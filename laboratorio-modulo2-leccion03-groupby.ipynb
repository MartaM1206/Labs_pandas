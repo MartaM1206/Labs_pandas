{
 "cells": [
  {
   "cell_type": "markdown",
   "id": "0e4a0473",
   "metadata": {},
   "source": [
    "<div style=\"text-align: center;\">\n",
    "  <img src=\"https://github.com/Hack-io-Data/Imagenes/blob/main/01-LogosHackio/logo_naranja@4x.png?raw=true\" alt=\"esquema\" />\n",
    "</div>"
   ]
  },
  {
   "cell_type": "markdown",
   "id": "8d36bc20",
   "metadata": {},
   "source": [
    "# Laboratorio Agrupamiento de Datos\n",
    "\n",
    "En este laboratorio usaremos el DataFrame creado en la lección anterior resultado de la unión de los conjuntos de datos compartidos contigo. \n",
    "\n",
    "**Instrucciones:**\n",
    "\n",
    "1. Lee cuidadosamente el enunciado de cada ejercicio.\n",
    "\n",
    "2. Implementa la solución en la celda de código proporcionada.\n",
    "\n",
    "3. Devuelve los resultados siempre en formato de DataFrame"
   ]
  },
  {
   "cell_type": "code",
   "execution_count": 41,
   "id": "80eb62de",
   "metadata": {},
   "outputs": [],
   "source": [
    "# Antes de empezar importamos las librerías necesarias\n",
    "# Para tratamiento de datos\n",
    "import numpy as np\n",
    "import pandas as pd\n",
    "# Para generar todas las combinaciones posibles\n",
    "import itertools\n",
    "# Para guardar DataFrames en Excel\n",
    "from pandas import ExcelWriter\n",
    "\n",
    "# Ignorar warnings\n",
    "import warnings\n",
    "warnings.filterwarnings(\"ignore\")\n",
    "\n",
    "# Configuración para poder visualizar todas las columnas de los DataFrames\n",
    "pd.set_option('display.max_columns', None) "
   ]
  },
  {
   "cell_type": "code",
   "execution_count": 42,
   "id": "6674bbf5",
   "metadata": {},
   "outputs": [
    {
     "data": {
      "text/html": [
       "<div>\n",
       "<style scoped>\n",
       "    .dataframe tbody tr th:only-of-type {\n",
       "        vertical-align: middle;\n",
       "    }\n",
       "\n",
       "    .dataframe tbody tr th {\n",
       "        vertical-align: top;\n",
       "    }\n",
       "\n",
       "    .dataframe thead th {\n",
       "        text-align: right;\n",
       "    }\n",
       "</style>\n",
       "<table border=\"1\" class=\"dataframe\">\n",
       "  <thead>\n",
       "    <tr style=\"text-align: right;\">\n",
       "      <th></th>\n",
       "      <th>show_id</th>\n",
       "      <th>type</th>\n",
       "      <th>title</th>\n",
       "      <th>director</th>\n",
       "      <th>cast</th>\n",
       "      <th>country</th>\n",
       "      <th>date_added</th>\n",
       "      <th>release_year</th>\n",
       "      <th>rating</th>\n",
       "      <th>duration</th>\n",
       "      <th>listed_in</th>\n",
       "      <th>description</th>\n",
       "      <th>Genre</th>\n",
       "      <th>Premiere</th>\n",
       "      <th>Runtime</th>\n",
       "      <th>IMDB Score</th>\n",
       "      <th>Language</th>\n",
       "      <th>Original</th>\n",
       "    </tr>\n",
       "  </thead>\n",
       "  <tbody>\n",
       "    <tr>\n",
       "      <th>0</th>\n",
       "      <td>s1</td>\n",
       "      <td>Movie</td>\n",
       "      <td>Dick Johnson Is Dead</td>\n",
       "      <td>Kirsten Johnson</td>\n",
       "      <td>NaN</td>\n",
       "      <td>United States</td>\n",
       "      <td>2021-09-25</td>\n",
       "      <td>2020</td>\n",
       "      <td>PG-13</td>\n",
       "      <td>90 min</td>\n",
       "      <td>Documentaries</td>\n",
       "      <td>As her father nears the end of his life, filmm...</td>\n",
       "      <td>Documentary</td>\n",
       "      <td>2020-10-02</td>\n",
       "      <td>90.0</td>\n",
       "      <td>7.5</td>\n",
       "      <td>English</td>\n",
       "      <td>yes</td>\n",
       "    </tr>\n",
       "  </tbody>\n",
       "</table>\n",
       "</div>"
      ],
      "text/plain": [
       "  show_id   type                 title         director cast        country  \\\n",
       "0      s1  Movie  Dick Johnson Is Dead  Kirsten Johnson  NaN  United States   \n",
       "\n",
       "  date_added  release_year rating duration      listed_in  \\\n",
       "0 2021-09-25          2020  PG-13   90 min  Documentaries   \n",
       "\n",
       "                                         description        Genre   Premiere  \\\n",
       "0  As her father nears the end of his life, filmm...  Documentary 2020-10-02   \n",
       "\n",
       "   Runtime  IMDB Score Language Original  \n",
       "0     90.0         7.5  English      yes  "
      ]
     },
     "execution_count": 42,
     "metadata": {},
     "output_type": "execute_result"
    }
   ],
   "source": [
    "## Cargamos el archivo\n",
    "df_catalogo = pd.read_pickle(\"datos/catalogo_completo.pkl\")\n",
    "df_catalogo.head(1)"
   ]
  },
  {
   "cell_type": "markdown",
   "id": "cb06a7b4",
   "metadata": {},
   "source": [
    "#### Ejercicio 1: ¿Cuántos títulos hay por cada tipo de contenido ('Movie' o 'TV Show')?"
   ]
  },
  {
   "cell_type": "code",
   "execution_count": 43,
   "id": "60cb155f",
   "metadata": {},
   "outputs": [
    {
     "data": {
      "text/html": [
       "<div>\n",
       "<style scoped>\n",
       "    .dataframe tbody tr th:only-of-type {\n",
       "        vertical-align: middle;\n",
       "    }\n",
       "\n",
       "    .dataframe tbody tr th {\n",
       "        vertical-align: top;\n",
       "    }\n",
       "\n",
       "    .dataframe thead th {\n",
       "        text-align: right;\n",
       "    }\n",
       "</style>\n",
       "<table border=\"1\" class=\"dataframe\">\n",
       "  <thead>\n",
       "    <tr style=\"text-align: right;\">\n",
       "      <th></th>\n",
       "      <th>show_id</th>\n",
       "      <th>title</th>\n",
       "      <th>director</th>\n",
       "      <th>cast</th>\n",
       "      <th>country</th>\n",
       "      <th>date_added</th>\n",
       "      <th>release_year</th>\n",
       "      <th>rating</th>\n",
       "      <th>duration</th>\n",
       "      <th>listed_in</th>\n",
       "      <th>description</th>\n",
       "      <th>Genre</th>\n",
       "      <th>Premiere</th>\n",
       "      <th>Runtime</th>\n",
       "      <th>IMDB Score</th>\n",
       "      <th>Language</th>\n",
       "      <th>Original</th>\n",
       "    </tr>\n",
       "    <tr>\n",
       "      <th>type</th>\n",
       "      <th></th>\n",
       "      <th></th>\n",
       "      <th></th>\n",
       "      <th></th>\n",
       "      <th></th>\n",
       "      <th></th>\n",
       "      <th></th>\n",
       "      <th></th>\n",
       "      <th></th>\n",
       "      <th></th>\n",
       "      <th></th>\n",
       "      <th></th>\n",
       "      <th></th>\n",
       "      <th></th>\n",
       "      <th></th>\n",
       "      <th></th>\n",
       "      <th></th>\n",
       "    </tr>\n",
       "  </thead>\n",
       "  <tbody>\n",
       "    <tr>\n",
       "      <th>Movie</th>\n",
       "      <td>6131</td>\n",
       "      <td>6131</td>\n",
       "      <td>5943</td>\n",
       "      <td>5656</td>\n",
       "      <td>5691</td>\n",
       "      <td>6131</td>\n",
       "      <td>6131</td>\n",
       "      <td>6129</td>\n",
       "      <td>3503</td>\n",
       "      <td>6131</td>\n",
       "      <td>6131</td>\n",
       "      <td>513</td>\n",
       "      <td>513</td>\n",
       "      <td>513</td>\n",
       "      <td>513</td>\n",
       "      <td>513</td>\n",
       "      <td>513</td>\n",
       "    </tr>\n",
       "    <tr>\n",
       "      <th>TV Show</th>\n",
       "      <td>2676</td>\n",
       "      <td>2676</td>\n",
       "      <td>230</td>\n",
       "      <td>2326</td>\n",
       "      <td>2285</td>\n",
       "      <td>2666</td>\n",
       "      <td>2676</td>\n",
       "      <td>2674</td>\n",
       "      <td>491</td>\n",
       "      <td>2676</td>\n",
       "      <td>2676</td>\n",
       "      <td>0</td>\n",
       "      <td>0</td>\n",
       "      <td>0</td>\n",
       "      <td>0</td>\n",
       "      <td>0</td>\n",
       "      <td>0</td>\n",
       "    </tr>\n",
       "  </tbody>\n",
       "</table>\n",
       "</div>"
      ],
      "text/plain": [
       "         show_id  title  director  cast  country  date_added  release_year  \\\n",
       "type                                                                         \n",
       "Movie       6131   6131      5943  5656     5691        6131          6131   \n",
       "TV Show     2676   2676       230  2326     2285        2666          2676   \n",
       "\n",
       "         rating  duration  listed_in  description  Genre  Premiere  Runtime  \\\n",
       "type                                                                          \n",
       "Movie      6129      3503       6131         6131    513       513      513   \n",
       "TV Show    2674       491       2676         2676      0         0        0   \n",
       "\n",
       "         IMDB Score  Language  Original  \n",
       "type                                     \n",
       "Movie           513       513       513  \n",
       "TV Show           0         0         0  "
      ]
     },
     "execution_count": 43,
     "metadata": {},
     "output_type": "execute_result"
    }
   ],
   "source": [
    "tipo_contenido = df_catalogo.groupby(\"type\").count()\n",
    "tipo_contenido"
   ]
  },
  {
   "cell_type": "code",
   "execution_count": 44,
   "id": "81089f82",
   "metadata": {},
   "outputs": [
    {
     "name": "stdout",
     "output_type": "stream",
     "text": [
      "Hay 6131 de tipo 'Movie' y 2676 de tipo 'TV Show\n"
     ]
    }
   ],
   "source": [
    "print(f\"Hay {tipo_contenido.loc[\"Movie\", \"title\"]} de tipo 'Movie' y {tipo_contenido.loc[\"TV Show\", \"title\"]} de tipo 'TV Show\")"
   ]
  },
  {
   "cell_type": "markdown",
   "id": "b956d726",
   "metadata": {},
   "source": [
    "#### Ejercicio 2: ¿Cuál es el promedio de puntuación de las películas agrupadas por clasificación de audiencia ('rating')? Interpreta los resultados, ¿hay algo que te llame la atención? Explica por qué. "
   ]
  },
  {
   "cell_type": "code",
   "execution_count": 45,
   "id": "416c0731",
   "metadata": {},
   "outputs": [
    {
     "data": {
      "text/plain": [
       "rating\n",
       "66 min       NaN\n",
       "74 min       NaN\n",
       "84 min       NaN\n",
       "G           6.50\n",
       "NC-17        NaN\n",
       "NR           NaN\n",
       "PG          6.80\n",
       "PG-13       6.39\n",
       "R           6.50\n",
       "TV-14       6.18\n",
       "TV-G        6.16\n",
       "TV-MA       6.10\n",
       "TV-PG       6.31\n",
       "TV-Y        6.78\n",
       "TV-Y7       6.24\n",
       "TV-Y7-FV     NaN\n",
       "UR           NaN\n",
       "Name: IMDB Score, dtype: float64"
      ]
     },
     "execution_count": 45,
     "metadata": {},
     "output_type": "execute_result"
    }
   ],
   "source": [
    "puntuacion_rating = round(df_catalogo.groupby(\"rating\")[\"IMDB Score\"].mean(),2)\n",
    "puntuacion_rating"
   ]
  },
  {
   "cell_type": "markdown",
   "id": "e1ea76c3",
   "metadata": {},
   "source": [
    "En primer lugar aparecen 3 valores que no parecen clasificación de audiencia, sino datos de duración.\n",
    "Hay clasificaciones que no tienen un valor medio, puede deberse a que esas clasificaciones no tengan puntuación en IMDB.\n",
    "Se puede observar que todos los valores medios obtenidos son bastante similares, entre 6.10 y 6.80, lo que sugiere que no hay categorías especialmente buenas ni especialmente malas."
   ]
  },
  {
   "cell_type": "code",
   "execution_count": 46,
   "id": "e57b1a6d",
   "metadata": {},
   "outputs": [
    {
     "name": "stdout",
     "output_type": "stream",
     "text": [
      "<class 'pandas.core.frame.DataFrame'>\n",
      "Index: 92 entries, 5264 to 8792\n",
      "Data columns (total 2 columns):\n",
      " #   Column      Non-Null Count  Dtype  \n",
      "---  ------      --------------  -----  \n",
      " 0   rating      92 non-null     object \n",
      " 1   IMDB Score  0 non-null      float64\n",
      "dtypes: float64(1), object(1)\n",
      "memory usage: 2.2+ KB\n"
     ]
    }
   ],
   "source": [
    "puntuacion_y_rating = df_catalogo.filter(items = [\"rating\", \"IMDB Score\"])\n",
    "nota_rating = puntuacion_y_rating[puntuacion_y_rating[\"rating\"].isin([\"NC-17\", \"NR\", \"TV-Y7-FV\", \"UR\"])]\n",
    "nota_rating .info()"
   ]
  },
  {
   "cell_type": "markdown",
   "id": "86afa1d2",
   "metadata": {},
   "source": [
    "Hemos creado otro dataframe que contiene solo las clasificaciones que arrojan una media nula y su puntuación en IMDb; al sacar la info vemos que de las 92 filas, las que corresponden a \"IMDB Score\" son todas nulas."
   ]
  },
  {
   "cell_type": "markdown",
   "id": "f236954f",
   "metadata": {},
   "source": [
    "#### Ejercicio 3: ¿Cuántos títulos hay por cada país? Ordena los resultados de mayor a menor"
   ]
  },
  {
   "cell_type": "code",
   "execution_count": 47,
   "id": "1d6b8695",
   "metadata": {},
   "outputs": [
    {
     "data": {
      "text/html": [
       "<div>\n",
       "<style scoped>\n",
       "    .dataframe tbody tr th:only-of-type {\n",
       "        vertical-align: middle;\n",
       "    }\n",
       "\n",
       "    .dataframe tbody tr th {\n",
       "        vertical-align: top;\n",
       "    }\n",
       "\n",
       "    .dataframe thead th {\n",
       "        text-align: right;\n",
       "    }\n",
       "</style>\n",
       "<table border=\"1\" class=\"dataframe\">\n",
       "  <thead>\n",
       "    <tr style=\"text-align: right;\">\n",
       "      <th></th>\n",
       "      <th>title</th>\n",
       "    </tr>\n",
       "    <tr>\n",
       "      <th>country</th>\n",
       "      <th></th>\n",
       "    </tr>\n",
       "  </thead>\n",
       "  <tbody>\n",
       "    <tr>\n",
       "      <th>United States</th>\n",
       "      <td>2818</td>\n",
       "    </tr>\n",
       "    <tr>\n",
       "      <th>India</th>\n",
       "      <td>972</td>\n",
       "    </tr>\n",
       "    <tr>\n",
       "      <th>United Kingdom</th>\n",
       "      <td>419</td>\n",
       "    </tr>\n",
       "    <tr>\n",
       "      <th>Japan</th>\n",
       "      <td>245</td>\n",
       "    </tr>\n",
       "    <tr>\n",
       "      <th>South Korea</th>\n",
       "      <td>199</td>\n",
       "    </tr>\n",
       "    <tr>\n",
       "      <th>...</th>\n",
       "      <td>...</td>\n",
       "    </tr>\n",
       "    <tr>\n",
       "      <th>Australia, Iraq</th>\n",
       "      <td>1</td>\n",
       "    </tr>\n",
       "    <tr>\n",
       "      <th>Venezuela</th>\n",
       "      <td>1</td>\n",
       "    </tr>\n",
       "    <tr>\n",
       "      <th>Venezuela, Colombia</th>\n",
       "      <td>1</td>\n",
       "    </tr>\n",
       "    <tr>\n",
       "      <th>West Germany</th>\n",
       "      <td>1</td>\n",
       "    </tr>\n",
       "    <tr>\n",
       "      <th>, South Korea</th>\n",
       "      <td>1</td>\n",
       "    </tr>\n",
       "  </tbody>\n",
       "</table>\n",
       "<p>748 rows × 1 columns</p>\n",
       "</div>"
      ],
      "text/plain": [
       "                     title\n",
       "country                   \n",
       "United States         2818\n",
       "India                  972\n",
       "United Kingdom         419\n",
       "Japan                  245\n",
       "South Korea            199\n",
       "...                    ...\n",
       "Australia, Iraq          1\n",
       "Venezuela                1\n",
       "Venezuela, Colombia      1\n",
       "West Germany             1\n",
       ", South Korea            1\n",
       "\n",
       "[748 rows x 1 columns]"
      ]
     },
     "execution_count": 47,
     "metadata": {},
     "output_type": "execute_result"
    }
   ],
   "source": [
    "titulos_pais = (df_catalogo.groupby(\"country\").count()).filter(items =[\"country\", \"title\"])\n",
    "# Hemos filtrado para que solo muestre las columnas de país y el conteo de títulos\n",
    "titulos_pais.sort_values(\"title\", ascending = False)\n",
    "# Usamos sort_values para ordenar por la columna title, que es la que contiene el conteo y ponemos \"ascending = False\" para que ordene de forma descencente."
   ]
  },
  {
   "cell_type": "markdown",
   "id": "a49712a3",
   "metadata": {},
   "source": [
    "#### Ejercicio 4: ¿Cuál es la calificación promedio en IMDb de los títulos agrupados por tipo ('Movie' o 'TV Show')?"
   ]
  },
  {
   "cell_type": "code",
   "execution_count": 48,
   "id": "564e953f",
   "metadata": {},
   "outputs": [
    {
     "data": {
      "text/plain": [
       "type\n",
       "Movie      6.210916\n",
       "TV Show         NaN\n",
       "Name: IMDB Score, dtype: float64"
      ]
     },
     "execution_count": 48,
     "metadata": {},
     "output_type": "execute_result"
    }
   ],
   "source": [
    "puntuacion_tipo = df_catalogo.groupby(\"type\")[\"IMDB Score\"].mean()\n",
    "puntuacion_tipo"
   ]
  },
  {
   "cell_type": "markdown",
   "id": "1da3de2d",
   "metadata": {},
   "source": [
    "Parece que los títulos de tipo 'TV Show' no tienen calificación en IMDb."
   ]
  },
  {
   "cell_type": "code",
   "execution_count": 49,
   "id": "75223f9b",
   "metadata": {},
   "outputs": [
    {
     "name": "stdout",
     "output_type": "stream",
     "text": [
      "<class 'pandas.core.frame.DataFrame'>\n",
      "Index: 2676 entries, 1 to 8803\n",
      "Data columns (total 2 columns):\n",
      " #   Column      Non-Null Count  Dtype  \n",
      "---  ------      --------------  -----  \n",
      " 0   type        2676 non-null   object \n",
      " 1   IMDB Score  0 non-null      float64\n",
      "dtypes: float64(1), object(1)\n",
      "memory usage: 62.7+ KB\n"
     ]
    }
   ],
   "source": [
    "puntuacion_y_tipo = df_catalogo.filter(items = [\"type\", \"IMDB Score\"])\n",
    "nota_series = puntuacion_y_tipo[puntuacion_y_tipo[\"type\"]== \"TV Show\"]\n",
    "nota_series.info()"
   ]
  },
  {
   "cell_type": "markdown",
   "id": "273ceb2f",
   "metadata": {},
   "source": [
    "Si creamos un DataFrame que únicamente contenga los títulos de tipo \"TV Show\" y su puntuación en IMDB, podemos ver que tiene 2676 filas y que, para la columna \"IMDB Score\", todos los valores son nulos."
   ]
  },
  {
   "cell_type": "markdown",
   "id": "4eac1036",
   "metadata": {},
   "source": [
    "#### Ejercicio 5: ¿Cuántos títulos se añadieron a Netflix cada año? Para resolver este ejercicio tendrás uqe convertir la columna `date_added` a formato fecha usando el método `pd.to_datetime`. [Aquí](https://pandas.pydata.org/docs/reference/api/pandas.to_datetime.html) tienes la documentación, leeala con detenimiento antes de usar el método. "
   ]
  },
  {
   "cell_type": "code",
   "execution_count": 50,
   "id": "a4106e8d",
   "metadata": {},
   "outputs": [],
   "source": [
    "# convertimos la columna a formato fecha\n",
    "df_catalogo[\"date_added\"] = pd.to_datetime(df_catalogo[\"date_added\"], format=\"mixed\")\n",
    "# creamos columna nueva con el año\n",
    "df_catalogo[\"year_added\"] = df_catalogo[\"date_added\"].dt.year"
   ]
  },
  {
   "cell_type": "code",
   "execution_count": 51,
   "id": "5b8d244f",
   "metadata": {},
   "outputs": [
    {
     "data": {
      "text/html": [
       "<div>\n",
       "<style scoped>\n",
       "    .dataframe tbody tr th:only-of-type {\n",
       "        vertical-align: middle;\n",
       "    }\n",
       "\n",
       "    .dataframe tbody tr th {\n",
       "        vertical-align: top;\n",
       "    }\n",
       "\n",
       "    .dataframe thead th {\n",
       "        text-align: right;\n",
       "    }\n",
       "</style>\n",
       "<table border=\"1\" class=\"dataframe\">\n",
       "  <thead>\n",
       "    <tr style=\"text-align: right;\">\n",
       "      <th></th>\n",
       "      <th>title</th>\n",
       "    </tr>\n",
       "    <tr>\n",
       "      <th>year_added</th>\n",
       "      <th></th>\n",
       "    </tr>\n",
       "  </thead>\n",
       "  <tbody>\n",
       "    <tr>\n",
       "      <th>2008.0</th>\n",
       "      <td>2</td>\n",
       "    </tr>\n",
       "    <tr>\n",
       "      <th>2009.0</th>\n",
       "      <td>2</td>\n",
       "    </tr>\n",
       "    <tr>\n",
       "      <th>2010.0</th>\n",
       "      <td>1</td>\n",
       "    </tr>\n",
       "    <tr>\n",
       "      <th>2011.0</th>\n",
       "      <td>13</td>\n",
       "    </tr>\n",
       "    <tr>\n",
       "      <th>2012.0</th>\n",
       "      <td>3</td>\n",
       "    </tr>\n",
       "    <tr>\n",
       "      <th>2013.0</th>\n",
       "      <td>11</td>\n",
       "    </tr>\n",
       "    <tr>\n",
       "      <th>2014.0</th>\n",
       "      <td>24</td>\n",
       "    </tr>\n",
       "    <tr>\n",
       "      <th>2015.0</th>\n",
       "      <td>82</td>\n",
       "    </tr>\n",
       "    <tr>\n",
       "      <th>2016.0</th>\n",
       "      <td>429</td>\n",
       "    </tr>\n",
       "    <tr>\n",
       "      <th>2017.0</th>\n",
       "      <td>1188</td>\n",
       "    </tr>\n",
       "    <tr>\n",
       "      <th>2018.0</th>\n",
       "      <td>1649</td>\n",
       "    </tr>\n",
       "    <tr>\n",
       "      <th>2019.0</th>\n",
       "      <td>2016</td>\n",
       "    </tr>\n",
       "    <tr>\n",
       "      <th>2020.0</th>\n",
       "      <td>1879</td>\n",
       "    </tr>\n",
       "    <tr>\n",
       "      <th>2021.0</th>\n",
       "      <td>1498</td>\n",
       "    </tr>\n",
       "  </tbody>\n",
       "</table>\n",
       "</div>"
      ],
      "text/plain": [
       "            title\n",
       "year_added       \n",
       "2008.0          2\n",
       "2009.0          2\n",
       "2010.0          1\n",
       "2011.0         13\n",
       "2012.0          3\n",
       "2013.0         11\n",
       "2014.0         24\n",
       "2015.0         82\n",
       "2016.0        429\n",
       "2017.0       1188\n",
       "2018.0       1649\n",
       "2019.0       2016\n",
       "2020.0       1879\n",
       "2021.0       1498"
      ]
     },
     "execution_count": 51,
     "metadata": {},
     "output_type": "execute_result"
    }
   ],
   "source": [
    "# agrupamos los títulos por año\n",
    "titulos_anual = (df_catalogo.groupby(\"year_added\").count())\n",
    "# mostramos solo las columnas del año y el conteo de títulos\n",
    "titulos_anual.filter(items =[\"year_added\", \"title\"])"
   ]
  },
  {
   "cell_type": "markdown",
   "id": "ddd1d9b9",
   "metadata": {},
   "source": [
    "#### Ejercicio 6: ¿Cuál es el país con más títulos lanzados en el año 2020? Para resolver este ejercicio después del gropuby os puede resultar interesante el método [`idxmax`](https://pandas.pydata.org/docs/reference/api/pandas.DataFrame.idxmax.html)"
   ]
  },
  {
   "cell_type": "code",
   "execution_count": 62,
   "id": "0d914739",
   "metadata": {},
   "outputs": [],
   "source": [
    "# Filtramos los títulos lanzados en 2020\n",
    "titulos_2020 = df_catalogo[df_catalogo[\"year_added\"] == 2020]\n",
    "# agrupamos los títulos de 2020 por país contando los títulos\n",
    "titulos_pais = titulos_2020.groupby(\"country\")[\"title\"].count()"
   ]
  },
  {
   "cell_type": "code",
   "execution_count": 61,
   "id": "39c17eea",
   "metadata": {},
   "outputs": [
    {
     "data": {
      "text/plain": [
       "'United States'"
      ]
     },
     "execution_count": 61,
     "metadata": {},
     "output_type": "execute_result"
    }
   ],
   "source": [
    "pais_mas_titulos = titulos_pais.idxmax()\n",
    "pais_mas_titulos"
   ]
  },
  {
   "cell_type": "markdown",
   "id": "b5e05d91",
   "metadata": {},
   "source": [
    "#### Ejercicio 7:¿Cuál es el promedio de puntuación en IMDb de los títulos agrupados por país?"
   ]
  },
  {
   "cell_type": "code",
   "execution_count": 54,
   "id": "51c46210",
   "metadata": {},
   "outputs": [
    {
     "data": {
      "text/plain": [
       "country\n",
       "Argentina                                              6.42\n",
       "Argentina, Brazil, France, Poland, Germany, Denmark     NaN\n",
       "Argentina, Chile                                        NaN\n",
       "Argentina, Chile, Peru                                  NaN\n",
       "Argentina, France                                       NaN\n",
       "                                                       ... \n",
       "Venezuela                                               NaN\n",
       "Venezuela, Colombia                                     NaN\n",
       "Vietnam                                                 NaN\n",
       "West Germany                                            NaN\n",
       "Zimbabwe                                                NaN\n",
       "Name: IMDB Score, Length: 746, dtype: float64"
      ]
     },
     "execution_count": 54,
     "metadata": {},
     "output_type": "execute_result"
    }
   ],
   "source": [
    "df_catalogo[\"country\"] = df_catalogo[\"country\"].str.replace(', France, Algeria', 'France, Algeria')\n",
    "df_catalogo[\"country\"] = df_catalogo[\"country\"].str.replace(', South Korea', 'South Korea')\n",
    "puntuacion_pais = df_catalogo.groupby(\"country\")[\"IMDB Score\"].mean()\n",
    "puntuacion_pais"
   ]
  },
  {
   "cell_type": "markdown",
   "id": "43634c81",
   "metadata": {},
   "source": [
    "#### Ejercicio 8: ¿Cuántos títulos fueron lanzados en cada año agrupados por tipo ('Movie' o 'TV Show')?"
   ]
  },
  {
   "cell_type": "code",
   "execution_count": 78,
   "id": "d14840b1",
   "metadata": {},
   "outputs": [
    {
     "data": {
      "text/plain": [
       "year_added  type   \n",
       "2008.0      Movie         1\n",
       "            TV Show       1\n",
       "2009.0      Movie         2\n",
       "2010.0      Movie         1\n",
       "2011.0      Movie        13\n",
       "2012.0      Movie         3\n",
       "2013.0      Movie         6\n",
       "            TV Show       5\n",
       "2014.0      Movie        19\n",
       "            TV Show       5\n",
       "2015.0      Movie        56\n",
       "            TV Show      26\n",
       "2016.0      Movie       253\n",
       "            TV Show     176\n",
       "2017.0      Movie       839\n",
       "            TV Show     349\n",
       "2018.0      Movie      1237\n",
       "            TV Show     412\n",
       "2019.0      Movie      1424\n",
       "            TV Show     592\n",
       "2020.0      Movie      1284\n",
       "            TV Show     595\n",
       "2021.0      Movie       993\n",
       "            TV Show     505\n",
       "Name: title, dtype: int64"
      ]
     },
     "execution_count": 78,
     "metadata": {},
     "output_type": "execute_result"
    }
   ],
   "source": [
    "titulos_tipo = df_catalogo.groupby([\"year_added\",\"type\"])[\"title\"].count()\n",
    "titulos_tipo"
   ]
  },
  {
   "cell_type": "markdown",
   "id": "4fc8e1d3",
   "metadata": {},
   "source": [
    "#### Ejercicio 9: ¿Cuál es el país con la mayor cantidad de títulos de clasificación 'TV-MA'?"
   ]
  },
  {
   "cell_type": "code",
   "execution_count": null,
   "id": "a9a2d175",
   "metadata": {},
   "outputs": [
    {
     "data": {
      "text/plain": [
       "'United States'"
      ]
     },
     "execution_count": 82,
     "metadata": {},
     "output_type": "execute_result"
    }
   ],
   "source": [
    "# filtramos por los títulos de clasificacion 'TV-MA'\n",
    "titulos_TVMA = df_catalogo[df_catalogo[\"rating\"] == \"TV-MA\"]\n",
    "# agrupamos por país contando los títulos\n",
    "titulos_TVMA_pais = titulos_TVMA.groupby(\"country\")[\"title\"].count()\n",
    "# usamos idxmax para sacar el máximo\n",
    "titulos_TVMA_pais.idxmax()\n"
   ]
  },
  {
   "cell_type": "markdown",
   "id": "f1121ccd",
   "metadata": {},
   "source": [
    "#### Ejercicio 10. ¿Cuál es el promedio de duración de las películas agrupadas por país?"
   ]
  },
  {
   "cell_type": "code",
   "execution_count": 85,
   "id": "06491396",
   "metadata": {},
   "outputs": [
    {
     "data": {
      "text/plain": [
       "country\n",
       "Argentina                                              96.8\n",
       "Argentina, Brazil, France, Poland, Germany, Denmark     NaN\n",
       "Argentina, Chile                                        NaN\n",
       "Argentina, Chile, Peru                                  NaN\n",
       "Argentina, France                                       NaN\n",
       "                                                       ... \n",
       "Venezuela                                               NaN\n",
       "Venezuela, Colombia                                     NaN\n",
       "Vietnam                                                 NaN\n",
       "West Germany                                            NaN\n",
       "Zimbabwe                                                NaN\n",
       "Name: Runtime, Length: 746, dtype: float64"
      ]
     },
     "execution_count": 85,
     "metadata": {},
     "output_type": "execute_result"
    }
   ],
   "source": [
    "duracion_pais = df_catalogo.groupby(\"country\")[\"Runtime\"].mean()\n",
    "duracion_pais"
   ]
  },
  {
   "cell_type": "markdown",
   "id": "0f3ee373",
   "metadata": {},
   "source": [
    "#### Ejercicio 11: ¿Cuál es el número total de títulos por país y clasificación de audiencia ('rating')?"
   ]
  },
  {
   "cell_type": "code",
   "execution_count": 87,
   "id": "8fe17c56",
   "metadata": {},
   "outputs": [
    {
     "data": {
      "text/plain": [
       "country       rating\n",
       "Argentina     NR         2\n",
       "              R          1\n",
       "              TV-14      7\n",
       "              TV-G       2\n",
       "              TV-MA     39\n",
       "                        ..\n",
       "Vietnam       TV-14      3\n",
       "              TV-G       1\n",
       "              TV-MA      3\n",
       "West Germany  TV-MA      1\n",
       "Zimbabwe      TV-G       1\n",
       "Name: title, Length: 1174, dtype: int64"
      ]
     },
     "execution_count": 87,
     "metadata": {},
     "output_type": "execute_result"
    }
   ],
   "source": [
    "titulos_pais_rating = df_catalogo.groupby([\"country\",\"rating\"])[\"title\"].count()\n",
    "titulos_pais_rating"
   ]
  },
  {
   "cell_type": "markdown",
   "id": "e968d41f",
   "metadata": {},
   "source": [
    "#### Ejercicio 12: ¿Cuántos títulos fueron lanzados antes del año 2000 agrupados por país?"
   ]
  },
  {
   "cell_type": "code",
   "execution_count": 90,
   "id": "09e77e41",
   "metadata": {},
   "outputs": [
    {
     "data": {
      "text/plain": [
       "country\n",
       "Argentina                        3\n",
       "Argentina, Spain                 1\n",
       "Australia                        4\n",
       "Australia, United Kingdom        1\n",
       "Australia, United States         2\n",
       "                                ..\n",
       "United States, Japan             1\n",
       "United States, Mexico            3\n",
       "United States, New Zealand       1\n",
       "United States, United Kingdom    6\n",
       "West Germany                     1\n",
       "Name: title, Length: 65, dtype: int64"
      ]
     },
     "execution_count": 90,
     "metadata": {},
     "output_type": "execute_result"
    }
   ],
   "source": [
    "# filtramos por los títulos lanzados antes del 2000'\n",
    "titulos_antes2000 = df_catalogo[df_catalogo[\"release_year\"] < 2000]\n",
    "\n",
    "# agrupamos por país contando los títulos\n",
    "titulos_antes2000_pais = titulos_antes2000.groupby(\"country\")[\"title\"].count()\n",
    "\n",
    "titulos_antes2000_pais"
   ]
  },
  {
   "cell_type": "markdown",
   "id": "3feff0de",
   "metadata": {},
   "source": [
    "#### Ejercicio 13: ¿Cuál es la puntuación promedio en IMDb de los títulos lanzados en 2021 agrupados por país?"
   ]
  },
  {
   "cell_type": "code",
   "execution_count": 91,
   "id": "06e047e9",
   "metadata": {},
   "outputs": [
    {
     "data": {
      "text/plain": [
       "country\n",
       "Argentina                        2\n",
       "Australia                        7\n",
       "Australia, United Kingdom        1\n",
       "Australia, United States         1\n",
       "Belgium                          2\n",
       "                                ..\n",
       "United States, Mexico            1\n",
       "United States, Singapore         1\n",
       "United States, United Kingdom    4\n",
       "Uruguay, Germany                 1\n",
       "Vietnam                          1\n",
       "Name: title, Length: 74, dtype: int64"
      ]
     },
     "execution_count": 91,
     "metadata": {},
     "output_type": "execute_result"
    }
   ],
   "source": [
    "# filtramos por los títulos lanzados en 2021'\n",
    "titulos_2021 = df_catalogo[df_catalogo[\"release_year\"] == 2021]\n",
    "# agrupamos por país contando los títulos\n",
    "titulos_2021_pais = titulos_2021.groupby(\"country\")[\"title\"].count()\n",
    "titulos_2021_pais"
   ]
  },
  {
   "cell_type": "markdown",
   "id": "b598a9ee",
   "metadata": {},
   "source": [
    "#### Ejercicio 14: ¿Cuántos títulos fueron dirigidos por cada director? Ordena los resultados de mayor a menor"
   ]
  },
  {
   "cell_type": "code",
   "execution_count": 96,
   "id": "a36c5d63",
   "metadata": {},
   "outputs": [
    {
     "data": {
      "text/plain": [
       "director\n",
       "Rajiv Chilaka                                                 19\n",
       "Raúl Campos, Jan Suter                                        18\n",
       "Suhas Kadav                                                   16\n",
       "Marcus Raboy                                                  16\n",
       "Jay Karas                                                     14\n",
       "                                                              ..\n",
       "Álvaro Delgado-Aparicio L.                                     1\n",
       "Álvaro Brechner                                                1\n",
       "Zuko Nodada                                                    1\n",
       "Zsolt Pálfi                                                    1\n",
       "Zoya Akhtar, Karan Johar, Anurag Kashyap, Dibakar Banerjee     1\n",
       "Name: title, Length: 4528, dtype: int64"
      ]
     },
     "execution_count": 96,
     "metadata": {},
     "output_type": "execute_result"
    }
   ],
   "source": [
    "#agrupamos por director contando los títulos\n",
    "titulos_director = df_catalogo.groupby(\"director\")[\"title\"].count()\n",
    "# ordenamos de mayor a menor\n",
    "titulos_director.sort_values(ascending = False)"
   ]
  },
  {
   "cell_type": "markdown",
   "id": "1471f841",
   "metadata": {},
   "source": [
    "#### Ejercicio 15: ¿Cuál es el lenguaje más frecuente en los títulos lanzados en los últimos 5 años agrupado por país?"
   ]
  },
  {
   "cell_type": "code",
   "execution_count": 105,
   "id": "57446c34",
   "metadata": {},
   "outputs": [
    {
     "data": {
      "text/plain": [
       "('United States', 'English')"
      ]
     },
     "execution_count": 105,
     "metadata": {},
     "output_type": "execute_result"
    }
   ],
   "source": [
    "# filtramos por los titulos lanzados en los últimos 5 años\n",
    "lanzamiento =  pd.Timestamp.now().year -5\n",
    "titulos_recientes = df_catalogo[df_catalogo[\"release_year\"] > lanzamiento]\n",
    "# agrupamos por país y lenguaje contando los títulos\n",
    "titulos_recientes_idioma_pais = df_catalogo.groupby([\"country\", \"Language\"])[\"title\"].count()\n",
    "titulos_recientes_idioma_pais.idxmax()"
   ]
  }
 ],
 "metadata": {
  "kernelspec": {
   "display_name": "Python 3",
   "language": "python",
   "name": "python3"
  },
  "language_info": {
   "codemirror_mode": {
    "name": "ipython",
    "version": 3
   },
   "file_extension": ".py",
   "mimetype": "text/x-python",
   "name": "python",
   "nbconvert_exporter": "python",
   "pygments_lexer": "ipython3",
   "version": "3.13.0"
  }
 },
 "nbformat": 4,
 "nbformat_minor": 5
}
